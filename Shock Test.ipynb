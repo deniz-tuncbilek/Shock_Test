{
 "cells": [
  {
   "cell_type": "code",
   "execution_count": 1,
   "id": "113430c5",
   "metadata": {},
   "outputs": [],
   "source": [
    "import numpy as np\n",
    "import pandas as pd\n",
    "import matplotlib.pyplot as plt\n",
    "import seaborn as sns\n",
    "from sklearn.model_selection import train_test_split\n",
    "from sklearn.linear_model import LinearRegression\n",
    "from sklearn import metrics\n",
    "%matplotlib inline"
   ]
  },
  {
   "cell_type": "code",
   "execution_count": 2,
   "id": "9097620b",
   "metadata": {},
   "outputs": [],
   "source": [
    "address = r\"\\shock_table_input_data_simplified_no_outliers.csv\"\n",
    "dataset = pd.read_csv(address)"
   ]
  },
  {
   "cell_type": "code",
   "execution_count": 3,
   "id": "8c05f1f1",
   "metadata": {
    "scrolled": true
   },
   "outputs": [
    {
     "data": {
      "text/plain": [
       "(143, 19)"
      ]
     },
     "execution_count": 3,
     "metadata": {},
     "output_type": "execute_result"
    }
   ],
   "source": [
    "dataset.shape"
   ]
  },
  {
   "cell_type": "code",
   "execution_count": null,
   "id": "ebb2fe06",
   "metadata": {
    "pycharm": {
     "is_executing": true
    }
   },
   "outputs": [],
   "source": [
    "dataset.head(2)"
   ]
  },
  {
   "cell_type": "code",
   "execution_count": 5,
   "id": "3fbe4c41",
   "metadata": {},
   "outputs": [
    {
     "data": {
      "text/html": [
       "<div>\n",
       "<style scoped>\n",
       "    .dataframe tbody tr th:only-of-type {\n",
       "        vertical-align: middle;\n",
       "    }\n",
       "\n",
       "    .dataframe tbody tr th {\n",
       "        vertical-align: top;\n",
       "    }\n",
       "\n",
       "    .dataframe thead th {\n",
       "        text-align: right;\n",
       "    }\n",
       "</style>\n",
       "<table border=\"1\" class=\"dataframe\">\n",
       "  <thead>\n",
       "    <tr style=\"text-align: right;\">\n",
       "      <th></th>\n",
       "      <th>Acceleration (G)</th>\n",
       "      <th>Blow Vertical Direction (0/1)</th>\n",
       "      <th>Blow Side Direction (0/1)</th>\n",
       "      <th>Blow Front Direction (0/1)</th>\n",
       "      <th>Sensor X-Axis, Side Direction (0/1)</th>\n",
       "      <th>Sensor Y-Axis, Vertical Direction (0/1)</th>\n",
       "      <th>Sensor Z-Axis, Front Direction (0/1)</th>\n",
       "      <th>Console Mass (kg)</th>\n",
       "      <th>Fixture Mass (kg)</th>\n",
       "      <th>Hardware Mass (kg)</th>\n",
       "      <th>Anvil Table Mass (kg)</th>\n",
       "      <th>Hammer Height (m)</th>\n",
       "      <th>Table Travel (m)</th>\n",
       "      <th>CG Height (m)</th>\n",
       "      <th>Number of Bottom Isolators</th>\n",
       "      <th>Number of Side Isolators</th>\n",
       "      <th>Isolator Damping Coefficient</th>\n",
       "      <th>Isolator Stiffness (N/mm)</th>\n",
       "    </tr>\n",
       "  </thead>\n",
       "  <tbody>\n",
       "    <tr>\n",
       "      <th>count</th>\n",
       "      <td>143.000000</td>\n",
       "      <td>143.000000</td>\n",
       "      <td>143.000000</td>\n",
       "      <td>143.000000</td>\n",
       "      <td>143.000000</td>\n",
       "      <td>143.000000</td>\n",
       "      <td>143.000000</td>\n",
       "      <td>143.000000</td>\n",
       "      <td>143.000000</td>\n",
       "      <td>143.000000</td>\n",
       "      <td>143.00000</td>\n",
       "      <td>143.000000</td>\n",
       "      <td>143.000000</td>\n",
       "      <td>143.000000</td>\n",
       "      <td>143.000000</td>\n",
       "      <td>143.000000</td>\n",
       "      <td>1.430000e+02</td>\n",
       "      <td>143.000000</td>\n",
       "    </tr>\n",
       "    <tr>\n",
       "      <th>mean</th>\n",
       "      <td>110.082867</td>\n",
       "      <td>0.482517</td>\n",
       "      <td>0.314685</td>\n",
       "      <td>0.202797</td>\n",
       "      <td>0.265734</td>\n",
       "      <td>0.349650</td>\n",
       "      <td>0.384615</td>\n",
       "      <td>226.516294</td>\n",
       "      <td>1111.966224</td>\n",
       "      <td>684.697063</td>\n",
       "      <td>2023.17958</td>\n",
       "      <td>1.001822</td>\n",
       "      <td>0.063729</td>\n",
       "      <td>1.270585</td>\n",
       "      <td>6.545455</td>\n",
       "      <td>1.146853</td>\n",
       "      <td>5.000000e-02</td>\n",
       "      <td>149.158601</td>\n",
       "    </tr>\n",
       "    <tr>\n",
       "      <th>std</th>\n",
       "      <td>91.304250</td>\n",
       "      <td>0.501451</td>\n",
       "      <td>0.466023</td>\n",
       "      <td>0.403496</td>\n",
       "      <td>0.443276</td>\n",
       "      <td>0.478536</td>\n",
       "      <td>0.488214</td>\n",
       "      <td>123.000121</td>\n",
       "      <td>447.134356</td>\n",
       "      <td>510.988410</td>\n",
       "      <td>632.17810</td>\n",
       "      <td>0.471262</td>\n",
       "      <td>0.018275</td>\n",
       "      <td>0.251591</td>\n",
       "      <td>2.177760</td>\n",
       "      <td>1.221625</td>\n",
       "      <td>1.392657e-17</td>\n",
       "      <td>102.594067</td>\n",
       "    </tr>\n",
       "    <tr>\n",
       "      <th>min</th>\n",
       "      <td>6.570000</td>\n",
       "      <td>0.000000</td>\n",
       "      <td>0.000000</td>\n",
       "      <td>0.000000</td>\n",
       "      <td>0.000000</td>\n",
       "      <td>0.000000</td>\n",
       "      <td>0.000000</td>\n",
       "      <td>33.430000</td>\n",
       "      <td>181.360000</td>\n",
       "      <td>110.380000</td>\n",
       "      <td>680.80000</td>\n",
       "      <td>0.076200</td>\n",
       "      <td>0.038100</td>\n",
       "      <td>0.838200</td>\n",
       "      <td>0.000000</td>\n",
       "      <td>0.000000</td>\n",
       "      <td>5.000000e-02</td>\n",
       "      <td>40.470000</td>\n",
       "    </tr>\n",
       "    <tr>\n",
       "      <th>25%</th>\n",
       "      <td>39.945000</td>\n",
       "      <td>0.000000</td>\n",
       "      <td>0.000000</td>\n",
       "      <td>0.000000</td>\n",
       "      <td>0.000000</td>\n",
       "      <td>0.000000</td>\n",
       "      <td>0.000000</td>\n",
       "      <td>127.730000</td>\n",
       "      <td>778.640000</td>\n",
       "      <td>163.700000</td>\n",
       "      <td>1514.10000</td>\n",
       "      <td>0.690000</td>\n",
       "      <td>0.038100</td>\n",
       "      <td>1.121100</td>\n",
       "      <td>6.000000</td>\n",
       "      <td>0.000000</td>\n",
       "      <td>5.000000e-02</td>\n",
       "      <td>66.735000</td>\n",
       "    </tr>\n",
       "    <tr>\n",
       "      <th>50%</th>\n",
       "      <td>75.000000</td>\n",
       "      <td>0.000000</td>\n",
       "      <td>0.000000</td>\n",
       "      <td>0.000000</td>\n",
       "      <td>0.000000</td>\n",
       "      <td>0.000000</td>\n",
       "      <td>0.000000</td>\n",
       "      <td>232.730000</td>\n",
       "      <td>1219.090000</td>\n",
       "      <td>863.140000</td>\n",
       "      <td>1911.74000</td>\n",
       "      <td>0.838200</td>\n",
       "      <td>0.076200</td>\n",
       "      <td>1.270000</td>\n",
       "      <td>8.000000</td>\n",
       "      <td>2.000000</td>\n",
       "      <td>5.000000e-02</td>\n",
       "      <td>122.590000</td>\n",
       "    </tr>\n",
       "    <tr>\n",
       "      <th>75%</th>\n",
       "      <td>169.525000</td>\n",
       "      <td>1.000000</td>\n",
       "      <td>1.000000</td>\n",
       "      <td>0.000000</td>\n",
       "      <td>1.000000</td>\n",
       "      <td>1.000000</td>\n",
       "      <td>1.000000</td>\n",
       "      <td>327.270000</td>\n",
       "      <td>1547.110000</td>\n",
       "      <td>1040.060000</td>\n",
       "      <td>2473.86000</td>\n",
       "      <td>1.524000</td>\n",
       "      <td>0.076200</td>\n",
       "      <td>1.520000</td>\n",
       "      <td>8.000000</td>\n",
       "      <td>2.000000</td>\n",
       "      <td>5.000000e-02</td>\n",
       "      <td>219.295000</td>\n",
       "    </tr>\n",
       "    <tr>\n",
       "      <th>max</th>\n",
       "      <td>390.000000</td>\n",
       "      <td>1.000000</td>\n",
       "      <td>1.000000</td>\n",
       "      <td>1.000000</td>\n",
       "      <td>1.000000</td>\n",
       "      <td>1.000000</td>\n",
       "      <td>1.000000</td>\n",
       "      <td>400.000000</td>\n",
       "      <td>1731.360000</td>\n",
       "      <td>1469.110000</td>\n",
       "      <td>2979.05000</td>\n",
       "      <td>1.680000</td>\n",
       "      <td>0.080000</td>\n",
       "      <td>1.574800</td>\n",
       "      <td>8.000000</td>\n",
       "      <td>4.000000</td>\n",
       "      <td>5.000000e-02</td>\n",
       "      <td>316.000000</td>\n",
       "    </tr>\n",
       "  </tbody>\n",
       "</table>\n",
       "</div>"
      ],
      "text/plain": [
       "       Acceleration (G)  Blow Vertical Direction (0/1)  \\\n",
       "count        143.000000                     143.000000   \n",
       "mean         110.082867                       0.482517   \n",
       "std           91.304250                       0.501451   \n",
       "min            6.570000                       0.000000   \n",
       "25%           39.945000                       0.000000   \n",
       "50%           75.000000                       0.000000   \n",
       "75%          169.525000                       1.000000   \n",
       "max          390.000000                       1.000000   \n",
       "\n",
       "       Blow Side Direction (0/1)  Blow Front Direction (0/1)  \\\n",
       "count                 143.000000                  143.000000   \n",
       "mean                    0.314685                    0.202797   \n",
       "std                     0.466023                    0.403496   \n",
       "min                     0.000000                    0.000000   \n",
       "25%                     0.000000                    0.000000   \n",
       "50%                     0.000000                    0.000000   \n",
       "75%                     1.000000                    0.000000   \n",
       "max                     1.000000                    1.000000   \n",
       "\n",
       "       Sensor X-Axis, Side Direction (0/1)  \\\n",
       "count                           143.000000   \n",
       "mean                              0.265734   \n",
       "std                               0.443276   \n",
       "min                               0.000000   \n",
       "25%                               0.000000   \n",
       "50%                               0.000000   \n",
       "75%                               1.000000   \n",
       "max                               1.000000   \n",
       "\n",
       "       Sensor Y-Axis, Vertical Direction (0/1)  \\\n",
       "count                               143.000000   \n",
       "mean                                  0.349650   \n",
       "std                                   0.478536   \n",
       "min                                   0.000000   \n",
       "25%                                   0.000000   \n",
       "50%                                   0.000000   \n",
       "75%                                   1.000000   \n",
       "max                                   1.000000   \n",
       "\n",
       "       Sensor Z-Axis, Front Direction (0/1)  Console Mass (kg)  \\\n",
       "count                            143.000000         143.000000   \n",
       "mean                               0.384615         226.516294   \n",
       "std                                0.488214         123.000121   \n",
       "min                                0.000000          33.430000   \n",
       "25%                                0.000000         127.730000   \n",
       "50%                                0.000000         232.730000   \n",
       "75%                                1.000000         327.270000   \n",
       "max                                1.000000         400.000000   \n",
       "\n",
       "       Fixture Mass (kg)  Hardware Mass (kg)  Anvil Table Mass (kg)  \\\n",
       "count         143.000000          143.000000              143.00000   \n",
       "mean         1111.966224          684.697063             2023.17958   \n",
       "std           447.134356          510.988410              632.17810   \n",
       "min           181.360000          110.380000              680.80000   \n",
       "25%           778.640000          163.700000             1514.10000   \n",
       "50%          1219.090000          863.140000             1911.74000   \n",
       "75%          1547.110000         1040.060000             2473.86000   \n",
       "max          1731.360000         1469.110000             2979.05000   \n",
       "\n",
       "       Hammer Height (m)  Table Travel (m)  CG Height (m)  \\\n",
       "count         143.000000        143.000000     143.000000   \n",
       "mean            1.001822          0.063729       1.270585   \n",
       "std             0.471262          0.018275       0.251591   \n",
       "min             0.076200          0.038100       0.838200   \n",
       "25%             0.690000          0.038100       1.121100   \n",
       "50%             0.838200          0.076200       1.270000   \n",
       "75%             1.524000          0.076200       1.520000   \n",
       "max             1.680000          0.080000       1.574800   \n",
       "\n",
       "       Number of Bottom Isolators  Number of Side Isolators  \\\n",
       "count                  143.000000                143.000000   \n",
       "mean                     6.545455                  1.146853   \n",
       "std                      2.177760                  1.221625   \n",
       "min                      0.000000                  0.000000   \n",
       "25%                      6.000000                  0.000000   \n",
       "50%                      8.000000                  2.000000   \n",
       "75%                      8.000000                  2.000000   \n",
       "max                      8.000000                  4.000000   \n",
       "\n",
       "       Isolator Damping Coefficient  Isolator Stiffness (N/mm)  \n",
       "count                  1.430000e+02                 143.000000  \n",
       "mean                   5.000000e-02                 149.158601  \n",
       "std                    1.392657e-17                 102.594067  \n",
       "min                    5.000000e-02                  40.470000  \n",
       "25%                    5.000000e-02                  66.735000  \n",
       "50%                    5.000000e-02                 122.590000  \n",
       "75%                    5.000000e-02                 219.295000  \n",
       "max                    5.000000e-02                 316.000000  "
      ]
     },
     "execution_count": 5,
     "metadata": {},
     "output_type": "execute_result"
    }
   ],
   "source": [
    "dataset.describe()"
   ]
  },
  {
   "cell_type": "code",
   "execution_count": 6,
   "id": "2753d85e",
   "metadata": {},
   "outputs": [
    {
     "data": {
      "text/plain": [
       "Project Console                            False\n",
       "Acceleration (G)                           False\n",
       "Blow Vertical Direction (0/1)              False\n",
       "Blow Side Direction (0/1)                  False\n",
       "Blow Front Direction (0/1)                 False\n",
       "Sensor X-Axis, Side Direction (0/1)        False\n",
       "Sensor Y-Axis, Vertical Direction (0/1)    False\n",
       "Sensor Z-Axis, Front Direction (0/1)       False\n",
       "Console Mass (kg)                          False\n",
       "Fixture Mass (kg)                          False\n",
       "Hardware Mass (kg)                         False\n",
       "Anvil Table Mass (kg)                      False\n",
       "Hammer Height (m)                          False\n",
       "Table Travel (m)                           False\n",
       "CG Height (m)                              False\n",
       "Number of Bottom Isolators                 False\n",
       "Number of Side Isolators                   False\n",
       "Isolator Damping Coefficient               False\n",
       "Isolator Stiffness (N/mm)                  False\n",
       "dtype: bool"
      ]
     },
     "execution_count": 6,
     "metadata": {},
     "output_type": "execute_result"
    }
   ],
   "source": [
    "dataset.isnull().any()"
   ]
  },
  {
   "cell_type": "code",
   "execution_count": 7,
   "id": "6c17e8f2",
   "metadata": {},
   "outputs": [
    {
     "data": {
      "text/plain": [
       "<AxesSubplot:>"
      ]
     },
     "execution_count": 7,
     "metadata": {},
     "output_type": "execute_result"
    },
    {
     "data": {
      "image/png": "[encoded data removed]",
      "text/plain": [
       "<Figure size 1008x720 with 2 Axes>"
      ]
     },
     "metadata": {
      "needs_background": "light"
     },
     "output_type": "display_data"
    }
   ],
   "source": [
    "plt.figure(figsize=(14,10))\n",
    "sns.heatmap(dataset.corr())"
   ]
  },
  {
   "cell_type": "code",
   "execution_count": 8,
   "id": "d95ecc8e",
   "metadata": {},
   "outputs": [],
   "source": [
    "X = dataset.iloc[:, 2:].values  # Column index 2 to the end\n",
    "y = dataset.iloc[:, 1].values  # Column index 1 (acceleration)"
   ]
  },
  {
   "cell_type": "code",
   "execution_count": 9,
   "id": "ed1bcfa9",
   "metadata": {
    "scrolled": true
   },
   "outputs": [
    {
     "data": {
      "text/plain": [
       "(143, 17)"
      ]
     },
     "execution_count": 9,
     "metadata": {},
     "output_type": "execute_result"
    }
   ],
   "source": [
    "X.shape"
   ]
  },
  {
   "cell_type": "code",
   "execution_count": 10,
   "id": "9cf709e3",
   "metadata": {},
   "outputs": [
    {
     "data": {
      "text/plain": [
       "(143,)"
      ]
     },
     "execution_count": 10,
     "metadata": {},
     "output_type": "execute_result"
    }
   ],
   "source": [
    "y.shape"
   ]
  },
  {
   "cell_type": "code",
   "execution_count": 11,
   "id": "d3a963c6",
   "metadata": {},
   "outputs": [
    {
     "data": {
      "text/plain": [
       "<AxesSubplot:ylabel='Count'>"
      ]
     },
     "execution_count": 11,
     "metadata": {},
     "output_type": "execute_result"
    },
    {
     "data": {
      "image/png": "[encoded data removed]",
      "text/plain": [
       "<Figure size 1008x720 with 1 Axes>"
      ]
     },
     "metadata": {
      "needs_background": "light"
     },
     "output_type": "display_data"
    }
   ],
   "source": [
    "plt.figure(figsize=(14,10))\n",
    "sns.histplot(y, kde=True)"
   ]
  },
  {
   "cell_type": "code",
   "execution_count": 12,
   "id": "551139e2",
   "metadata": {},
   "outputs": [
    {
     "data": {
      "text/plain": [
       "<AxesSubplot:ylabel='Count'>"
      ]
     },
     "execution_count": 12,
     "metadata": {},
     "output_type": "execute_result"
    },
    {
     "data": {
      "image/png": "[encoded data removed]",
      "text/plain": [
       "<Figure size 1008x720 with 1 Axes>"
      ]
     },
     "metadata": {
      "needs_background": "light"
     },
     "output_type": "display_data"
    }
   ],
   "source": [
    "plt.figure(figsize=(14,10))\n",
    "sns.histplot(y, log_scale=True, kde=True)"
   ]
  },
  {
   "cell_type": "code",
   "execution_count": 13,
   "id": "66cffbf2",
   "metadata": {},
   "outputs": [],
   "source": [
    "X_train, X_test, y_train, y_test = train_test_split(X, y, test_size=0.3, random_state=42)"
   ]
  },
  {
   "cell_type": "code",
   "execution_count": 14,
   "id": "cbf3daa5",
   "metadata": {},
   "outputs": [],
   "source": [
    "regressor = LinearRegression()\n",
    "regressor.fit(X_train, y_train);"
   ]
  },
  {
   "cell_type": "code",
   "execution_count": 15,
   "id": "a00d05df",
   "metadata": {},
   "outputs": [
    {
     "data": {
      "text/html": [
       "<div>\n",
       "<style scoped>\n",
       "    .dataframe tbody tr th:only-of-type {\n",
       "        vertical-align: middle;\n",
       "    }\n",
       "\n",
       "    .dataframe tbody tr th {\n",
       "        vertical-align: top;\n",
       "    }\n",
       "\n",
       "    .dataframe thead th {\n",
       "        text-align: right;\n",
       "    }\n",
       "</style>\n",
       "<table border=\"1\" class=\"dataframe\">\n",
       "  <thead>\n",
       "    <tr style=\"text-align: right;\">\n",
       "      <th></th>\n",
       "      <th>Coefficients</th>\n",
       "    </tr>\n",
       "  </thead>\n",
       "  <tbody>\n",
       "    <tr>\n",
       "      <th>Blow Vertical Direction (0/1)</th>\n",
       "      <td>-1.604062e+09</td>\n",
       "    </tr>\n",
       "    <tr>\n",
       "      <th>Blow Side Direction (0/1)</th>\n",
       "      <td>-1.604062e+09</td>\n",
       "    </tr>\n",
       "    <tr>\n",
       "      <th>Blow Front Direction (0/1)</th>\n",
       "      <td>-1.604062e+09</td>\n",
       "    </tr>\n",
       "    <tr>\n",
       "      <th>Sensor X-Axis, Side Direction (0/1)</th>\n",
       "      <td>2.012419e+09</td>\n",
       "    </tr>\n",
       "    <tr>\n",
       "      <th>Sensor Y-Axis, Vertical Direction (0/1)</th>\n",
       "      <td>2.012419e+09</td>\n",
       "    </tr>\n",
       "    <tr>\n",
       "      <th>Sensor Z-Axis, Front Direction (0/1)</th>\n",
       "      <td>2.012419e+09</td>\n",
       "    </tr>\n",
       "    <tr>\n",
       "      <th>Console Mass (kg)</th>\n",
       "      <td>2.137057e+12</td>\n",
       "    </tr>\n",
       "    <tr>\n",
       "      <th>Fixture Mass (kg)</th>\n",
       "      <td>2.137057e+12</td>\n",
       "    </tr>\n",
       "    <tr>\n",
       "      <th>Hardware Mass (kg)</th>\n",
       "      <td>2.137057e+12</td>\n",
       "    </tr>\n",
       "    <tr>\n",
       "      <th>Anvil Table Mass (kg)</th>\n",
       "      <td>-2.137057e+12</td>\n",
       "    </tr>\n",
       "    <tr>\n",
       "      <th>Hammer Height (m)</th>\n",
       "      <td>-1.741082e+01</td>\n",
       "    </tr>\n",
       "    <tr>\n",
       "      <th>Table Travel (m)</th>\n",
       "      <td>-1.661009e+02</td>\n",
       "    </tr>\n",
       "    <tr>\n",
       "      <th>CG Height (m)</th>\n",
       "      <td>6.593908e+00</td>\n",
       "    </tr>\n",
       "    <tr>\n",
       "      <th>Number of Bottom Isolators</th>\n",
       "      <td>2.402516e+00</td>\n",
       "    </tr>\n",
       "    <tr>\n",
       "      <th>Number of Side Isolators</th>\n",
       "      <td>1.428421e+00</td>\n",
       "    </tr>\n",
       "    <tr>\n",
       "      <th>Isolator Damping Coefficient</th>\n",
       "      <td>1.030599e+09</td>\n",
       "    </tr>\n",
       "    <tr>\n",
       "      <th>Isolator Stiffness (N/mm)</th>\n",
       "      <td>-7.967985e-01</td>\n",
       "    </tr>\n",
       "  </tbody>\n",
       "</table>\n",
       "</div>"
      ],
      "text/plain": [
       "                                         Coefficients\n",
       "Blow Vertical Direction (0/1)           -1.604062e+09\n",
       "Blow Side Direction (0/1)               -1.604062e+09\n",
       "Blow Front Direction (0/1)              -1.604062e+09\n",
       "Sensor X-Axis, Side Direction (0/1)      2.012419e+09\n",
       "Sensor Y-Axis, Vertical Direction (0/1)  2.012419e+09\n",
       "Sensor Z-Axis, Front Direction (0/1)     2.012419e+09\n",
       "Console Mass (kg)                        2.137057e+12\n",
       "Fixture Mass (kg)                        2.137057e+12\n",
       "Hardware Mass (kg)                       2.137057e+12\n",
       "Anvil Table Mass (kg)                   -2.137057e+12\n",
       "Hammer Height (m)                       -1.741082e+01\n",
       "Table Travel (m)                        -1.661009e+02\n",
       "CG Height (m)                            6.593908e+00\n",
       "Number of Bottom Isolators               2.402516e+00\n",
       "Number of Side Isolators                 1.428421e+00\n",
       "Isolator Damping Coefficient             1.030599e+09\n",
       "Isolator Stiffness (N/mm)               -7.967985e-01"
      ]
     },
     "execution_count": 15,
     "metadata": {},
     "output_type": "execute_result"
    }
   ],
   "source": [
    "columns = list(dataset.columns)[2:]\n",
    "coeff = pd.DataFrame(regressor.coef_, index=columns, columns=[\"Coefficients\"])\n",
    "coeff"
   ]
  },
  {
   "cell_type": "code",
   "execution_count": 16,
   "id": "a9cce4a2",
   "metadata": {},
   "outputs": [],
   "source": [
    "y_pred = regressor.predict(X_test)"
   ]
  },
  {
   "cell_type": "code",
   "execution_count": 17,
   "id": "077148cd",
   "metadata": {},
   "outputs": [
    {
     "data": {
      "text/html": [
       "<div>\n",
       "<style scoped>\n",
       "    .dataframe tbody tr th:only-of-type {\n",
       "        vertical-align: middle;\n",
       "    }\n",
       "\n",
       "    .dataframe tbody tr th {\n",
       "        vertical-align: top;\n",
       "    }\n",
       "\n",
       "    .dataframe thead th {\n",
       "        text-align: right;\n",
       "    }\n",
       "</style>\n",
       "<table border=\"1\" class=\"dataframe\">\n",
       "  <thead>\n",
       "    <tr style=\"text-align: right;\">\n",
       "      <th></th>\n",
       "      <th>Actual</th>\n",
       "      <th>Predicted</th>\n",
       "    </tr>\n",
       "  </thead>\n",
       "  <tbody>\n",
       "    <tr>\n",
       "      <th>0</th>\n",
       "      <td>29.00</td>\n",
       "      <td>67.46</td>\n",
       "    </tr>\n",
       "    <tr>\n",
       "      <th>1</th>\n",
       "      <td>20.90</td>\n",
       "      <td>139.07</td>\n",
       "    </tr>\n",
       "    <tr>\n",
       "      <th>2</th>\n",
       "      <td>390.00</td>\n",
       "      <td>125.50</td>\n",
       "    </tr>\n",
       "    <tr>\n",
       "      <th>3</th>\n",
       "      <td>150.00</td>\n",
       "      <td>90.00</td>\n",
       "    </tr>\n",
       "    <tr>\n",
       "      <th>4</th>\n",
       "      <td>100.00</td>\n",
       "      <td>132.50</td>\n",
       "    </tr>\n",
       "    <tr>\n",
       "      <th>5</th>\n",
       "      <td>21.73</td>\n",
       "      <td>110.07</td>\n",
       "    </tr>\n",
       "    <tr>\n",
       "      <th>6</th>\n",
       "      <td>110.00</td>\n",
       "      <td>98.71</td>\n",
       "    </tr>\n",
       "    <tr>\n",
       "      <th>7</th>\n",
       "      <td>105.00</td>\n",
       "      <td>237.40</td>\n",
       "    </tr>\n",
       "    <tr>\n",
       "      <th>8</th>\n",
       "      <td>140.00</td>\n",
       "      <td>243.90</td>\n",
       "    </tr>\n",
       "    <tr>\n",
       "      <th>9</th>\n",
       "      <td>6.57</td>\n",
       "      <td>27.07</td>\n",
       "    </tr>\n",
       "  </tbody>\n",
       "</table>\n",
       "</div>"
      ],
      "text/plain": [
       "   Actual  Predicted\n",
       "0   29.00      67.46\n",
       "1   20.90     139.07\n",
       "2  390.00     125.50\n",
       "3  150.00      90.00\n",
       "4  100.00     132.50\n",
       "5   21.73     110.07\n",
       "6  110.00      98.71\n",
       "7  105.00     237.40\n",
       "8  140.00     243.90\n",
       "9    6.57      27.07"
      ]
     },
     "execution_count": 17,
     "metadata": {},
     "output_type": "execute_result"
    }
   ],
   "source": [
    "prediction = pd.DataFrame({\"Actual\": y_test, \"Predicted\": y_pred})\n",
    "prediction.head(10).round(2)"
   ]
  },
  {
   "cell_type": "code",
   "execution_count": 18,
   "id": "c149ebe0",
   "metadata": {},
   "outputs": [
    {
     "data": {
      "text/plain": [
       "Text(0, 0.5, 'Acceleration (G)')"
      ]
     },
     "execution_count": 18,
     "metadata": {},
     "output_type": "execute_result"
    },
    {
     "data": {
      "image/png": "[encoded data removed]",
      "text/plain": [
       "<Figure size 1008x720 with 1 Axes>"
      ]
     },
     "metadata": {
      "needs_background": "light"
     },
     "output_type": "display_data"
    }
   ],
   "source": [
    "fig = prediction.plot(kind=\"bar\", figsize=(14,10))\n",
    "fig.grid(linewidth=0.5)\n",
    "fig.set_ylabel(\"Acceleration (G)\")"
   ]
  },
  {
   "cell_type": "code",
   "execution_count": 19,
   "id": "f33d64bc",
   "metadata": {},
   "outputs": [
    {
     "name": "stdout",
     "output_type": "stream",
     "text": [
      "Mean absolute error: 78\n"
     ]
    }
   ],
   "source": [
    "print(\"Mean absolute error:\", round(metrics.mean_absolute_error(y_test, y_pred)))"
   ]
  },
  {
   "cell_type": "code",
   "execution_count": null,
   "id": "9e479d89",
   "metadata": {},
   "outputs": [],
   "source": []
  }
 ],
 "metadata": {
  "kernelspec": {
   "display_name": "Python 3",
   "language": "python",
   "name": "python3"
  },
  "language_info": {
   "codemirror_mode": {
    "name": "ipython",
    "version": 3
   },
   "file_extension": ".py",
   "mimetype": "text/x-python",
   "name": "python",
   "nbconvert_exporter": "python",
   "pygments_lexer": "ipython3",
   "version": "3.9.6"
  }
 },
 "nbformat": 4,
 "nbformat_minor": 5
}
